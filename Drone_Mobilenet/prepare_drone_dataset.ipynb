{
  "nbformat": 4,
  "nbformat_minor": 0,
  "metadata": {
    "colab": {
      "name": "prepare_drone_dataset.ipynb",
      "provenance": [],
      "collapsed_sections": [],
      "toc_visible": true
    },
    "kernelspec": {
      "name": "python3",
      "display_name": "Python 3"
    }
  },
  "cells": [
    {
      "cell_type": "code",
      "metadata": {
        "id": "PsrcWiC13JI-",
        "colab_type": "code",
        "colab": {
          "base_uri": "https://localhost:8080/",
          "height": 124
        },
        "outputId": "dccb9ed0-f12c-4d29-9053-281ff3ab2b5e"
      },
      "source": [
        "from google.colab import drive\n",
        "drive.mount('/content/drive')"
      ],
      "execution_count": null,
      "outputs": [
        {
          "output_type": "stream",
          "text": [
            "Go to this URL in a browser: https://accounts.google.com/o/oauth2/auth?client_id=947318989803-6bn6qk8qdgf4n4g3pfee6491hc0brc4i.apps.googleusercontent.com&redirect_uri=urn%3aietf%3awg%3aoauth%3a2.0%3aoob&response_type=code&scope=email%20https%3a%2f%2fwww.googleapis.com%2fauth%2fdocs.test%20https%3a%2f%2fwww.googleapis.com%2fauth%2fdrive%20https%3a%2f%2fwww.googleapis.com%2fauth%2fdrive.photos.readonly%20https%3a%2f%2fwww.googleapis.com%2fauth%2fpeopleapi.readonly\n",
            "\n",
            "Enter your authorization code:\n",
            "··········\n",
            "Mounted at /content/drive\n"
          ],
          "name": "stdout"
        }
      ]
    },
    {
      "cell_type": "code",
      "metadata": {
        "id": "vENsUY3GlR59",
        "colab_type": "code",
        "colab": {}
      },
      "source": [
        "import glob, random, os\n",
        "import cv2"
      ],
      "execution_count": null,
      "outputs": []
    },
    {
      "cell_type": "code",
      "metadata": {
        "id": "AmGsgdEsv5Nn",
        "colab_type": "code",
        "colab": {}
      },
      "source": [
        "os.mkdir('data/')"
      ],
      "execution_count": null,
      "outputs": []
    },
    {
      "cell_type": "code",
      "metadata": {
        "id": "KsCHHOy839AI",
        "colab_type": "code",
        "colab": {}
      },
      "source": [
        "!unzip -q '/content/drive/My Drive/mobilenet_dataset/small_quadcopters.zip' -d '/content/data'"
      ],
      "execution_count": null,
      "outputs": []
    },
    {
      "cell_type": "code",
      "metadata": {
        "id": "l-BaVxV64IEH",
        "colab_type": "code",
        "colab": {}
      },
      "source": [
        "!unzip -q '/content/drive/My Drive/mobilenet_dataset/large_quadcopters.zip' -d '/content/data'"
      ],
      "execution_count": null,
      "outputs": []
    },
    {
      "cell_type": "code",
      "metadata": {
        "id": "Vf97seNK4LoZ",
        "colab_type": "code",
        "colab": {}
      },
      "source": [
        "!unzip -q '/content/drive/My Drive/mobilenet_dataset/winged_drones.zip' -d '/content/data'"
      ],
      "execution_count": null,
      "outputs": []
    },
    {
      "cell_type": "code",
      "metadata": {
        "id": "GNuFZLrK4VLb",
        "colab_type": "code",
        "colab": {}
      },
      "source": [
        "!unzip -q '/content/drive/My Drive/mobilenet_dataset/flying_birds.zip' -d '/content/data'"
      ],
      "execution_count": null,
      "outputs": []
    },
    {
      "cell_type": "code",
      "metadata": {
        "id": "jI3BOeD7sVuI",
        "colab_type": "code",
        "colab": {
          "base_uri": "https://localhost:8080/",
          "height": 35
        },
        "outputId": "a4f6ce73-a15b-4969-eac0-0d9572ae21c3"
      },
      "source": [
        "ls ./data/winged_drones | wc -l"
      ],
      "execution_count": null,
      "outputs": [
        {
          "output_type": "stream",
          "text": [
            "3173\n"
          ],
          "name": "stdout"
        }
      ]
    },
    {
      "cell_type": "code",
      "metadata": {
        "id": "KxL8wGekuDw3",
        "colab_type": "code",
        "colab": {
          "base_uri": "https://localhost:8080/",
          "height": 35
        },
        "outputId": "d94787a9-bcce-4f10-b1a3-2554564af71e"
      },
      "source": [
        "ls ./data/small_quadcopters | wc -l"
      ],
      "execution_count": null,
      "outputs": [
        {
          "output_type": "stream",
          "text": [
            "3609\n"
          ],
          "name": "stdout"
        }
      ]
    },
    {
      "cell_type": "code",
      "metadata": {
        "id": "8P3Yv0dGuD7F",
        "colab_type": "code",
        "colab": {
          "base_uri": "https://localhost:8080/",
          "height": 35
        },
        "outputId": "e68c1c78-ddc8-40e8-e065-82a2bbaade93"
      },
      "source": [
        "ls ./data/large_quadcopters | wc -l"
      ],
      "execution_count": null,
      "outputs": [
        {
          "output_type": "stream",
          "text": [
            "3960\n"
          ],
          "name": "stdout"
        }
      ]
    },
    {
      "cell_type": "code",
      "metadata": {
        "id": "23yXEKL1uEke",
        "colab_type": "code",
        "colab": {
          "base_uri": "https://localhost:8080/",
          "height": 35
        },
        "outputId": "860adcca-df40-4754-82f4-9a452b2e2894"
      },
      "source": [
        "ls ./data/flying_birds | wc -l"
      ],
      "execution_count": null,
      "outputs": [
        {
          "output_type": "stream",
          "text": [
            "7783\n"
          ],
          "name": "stdout"
        }
      ]
    },
    {
      "cell_type": "code",
      "metadata": {
        "id": "YUJeippD5KVi",
        "colab_type": "code",
        "colab": {}
      },
      "source": [
        "target_folder = 'data/'\n",
        "train_folder = 'drone_dataset/train/'\n",
        "test_folder = 'drone_dataset/val/'"
      ],
      "execution_count": null,
      "outputs": []
    },
    {
      "cell_type": "code",
      "metadata": {
        "id": "e822Nz5G5bEu",
        "colab_type": "code",
        "colab": {}
      },
      "source": [
        "os.mkdir('drone_dataset/')\n",
        "os.mkdir(train_folder)\n",
        "os.mkdir(test_folder)"
      ],
      "execution_count": null,
      "outputs": []
    },
    {
      "cell_type": "code",
      "metadata": {
        "id": "u3oCQjMi5mk9",
        "colab_type": "code",
        "colab": {
          "base_uri": "https://localhost:8080/",
          "height": 35
        },
        "outputId": "7debd7b2-2f5f-4567-faca-bcff685bae8e"
      },
      "source": [
        "paths = glob.glob(target_folder+'*')\n",
        "print(paths)"
      ],
      "execution_count": null,
      "outputs": [
        {
          "output_type": "stream",
          "text": [
            "['data/large_quadcopters', 'data/flying_birds', 'data/small_quadcopters', 'data/winged_drones']\n"
          ],
          "name": "stdout"
        }
      ]
    },
    {
      "cell_type": "code",
      "metadata": {
        "id": "QcF1U08U5q9e",
        "colab_type": "code",
        "colab": {}
      },
      "source": [
        "def resize_save(im_pth, dst):\n",
        "    desired_size = 224\n",
        "    im = cv2.imread(im_pth)\n",
        "    if type(im) == type(None):\n",
        "        return\n",
        "    old_size = im.shape[:2] # old_size is in (height, width) format\n",
        "\n",
        "    ratio = float(desired_size)/max(old_size)\n",
        "    new_size = tuple([int(x*ratio) for x in old_size])\n",
        "\n",
        "    # new_size should be in (width, height) format\n",
        "\n",
        "    im = cv2.resize(im, (new_size[1], new_size[0]))\n",
        "\n",
        "    delta_w = desired_size - new_size[1]\n",
        "    delta_h = desired_size - new_size[0]\n",
        "    top, bottom = delta_h//2, delta_h-(delta_h//2)\n",
        "    left, right = delta_w//2, delta_w-(delta_w//2)\n",
        "\n",
        "    color = [0, 0, 0]\n",
        "    new_im = cv2.copyMakeBorder(im, top, bottom, left, right, cv2.BORDER_CONSTANT,\n",
        "        value=color)\n",
        "\n",
        "    cv2.imwrite(dst, new_im)"
      ],
      "execution_count": null,
      "outputs": []
    },
    {
      "cell_type": "code",
      "metadata": {
        "id": "dX-u5EmT6BNs",
        "colab_type": "code",
        "colab": {}
      },
      "source": [
        "for path in paths:\n",
        "    folder = path.split('/')[-1].split('\\\\')[-1]\n",
        "    source = target_folder+str(folder+'/')\n",
        "    train_dest = train_folder+str(folder+'/')\n",
        "    test_dest = test_folder+str(folder+'/')\n",
        "    os.mkdir(train_dest)\n",
        "    os.mkdir(test_dest)\n",
        "    images = glob.glob(source+str('*'))\n",
        "    \n",
        "    #making random\n",
        "    random.shuffle(images)\n",
        "\n",
        "    test_size = int(0.3*len(images))\n",
        "    \n",
        "    test_imgs = images[:test_size].copy()\n",
        "    train_imgs = images[test_size:].copy()\n",
        "    \n",
        "    #moving 30% for validation\n",
        "    for num, image in enumerate(test_imgs):\n",
        "        file = image.split('/')[-1].split('\\\\')[-1]\n",
        "        dest = test_dest+str(num+1)+\".jpg\"\n",
        "        resize_save(image, dest)\n",
        "        \n",
        "    #moving 70% for training\n",
        "    for num, image in enumerate(train_imgs):\n",
        "        file = image.split('/')[-1].split('\\\\')[-1]\n",
        "        dest = train_dest+str(num+1)+\".jpg\"\n",
        "        resize_save(image, dest)"
      ],
      "execution_count": null,
      "outputs": []
    },
    {
      "cell_type": "code",
      "metadata": {
        "id": "V7hUpk_P-s27",
        "colab_type": "code",
        "colab": {
          "base_uri": "https://localhost:8080/",
          "height": 35
        },
        "outputId": "7387c704-14ed-42bd-cb24-538f2d0e3f3e"
      },
      "source": [
        "ls ./drone_dataset/train/flying_birds | wc -l"
      ],
      "execution_count": null,
      "outputs": [
        {
          "output_type": "stream",
          "text": [
            "5447\n"
          ],
          "name": "stdout"
        }
      ]
    },
    {
      "cell_type": "code",
      "metadata": {
        "id": "AK4YDBC1-03r",
        "colab_type": "code",
        "colab": {
          "base_uri": "https://localhost:8080/",
          "height": 35
        },
        "outputId": "9ae1edea-3357-49b6-bc92-9b50076a511b"
      },
      "source": [
        "ls ./drone_dataset/val/flying_birds | wc -l"
      ],
      "execution_count": null,
      "outputs": [
        {
          "output_type": "stream",
          "text": [
            "2334\n"
          ],
          "name": "stdout"
        }
      ]
    },
    {
      "cell_type": "code",
      "metadata": {
        "id": "O8knb_Qq_qz5",
        "colab_type": "code",
        "colab": {
          "base_uri": "https://localhost:8080/",
          "height": 35
        },
        "outputId": "2611bb03-1b65-42f1-c858-d1fac5d9a53d"
      },
      "source": [
        "ls ./drone_dataset/train/winged_drones | wc -l"
      ],
      "execution_count": null,
      "outputs": [
        {
          "output_type": "stream",
          "text": [
            "2214\n"
          ],
          "name": "stdout"
        }
      ]
    },
    {
      "cell_type": "code",
      "metadata": {
        "id": "6u91DOn2_0nq",
        "colab_type": "code",
        "colab": {
          "base_uri": "https://localhost:8080/",
          "height": 35
        },
        "outputId": "04de0857-76ff-4a26-ce27-4ecd8903c0a2"
      },
      "source": [
        "ls ./drone_dataset/val/winged_drones | wc -l"
      ],
      "execution_count": null,
      "outputs": [
        {
          "output_type": "stream",
          "text": [
            "949\n"
          ],
          "name": "stdout"
        }
      ]
    },
    {
      "cell_type": "code",
      "metadata": {
        "id": "YRcrMsFY_9TT",
        "colab_type": "code",
        "colab": {
          "base_uri": "https://localhost:8080/",
          "height": 35
        },
        "outputId": "3cf137cb-a79a-4f39-8470-9557d3763a94"
      },
      "source": [
        "ls ./drone_dataset/train/small_quadcopters | wc -l"
      ],
      "execution_count": null,
      "outputs": [
        {
          "output_type": "stream",
          "text": [
            "2527\n"
          ],
          "name": "stdout"
        }
      ]
    },
    {
      "cell_type": "code",
      "metadata": {
        "id": "o3geVAzPAECf",
        "colab_type": "code",
        "colab": {
          "base_uri": "https://localhost:8080/",
          "height": 35
        },
        "outputId": "cd1b548c-7576-44cd-99fd-6ab5a2748bb1"
      },
      "source": [
        "ls ./drone_dataset/val/small_quadcopters | wc -l"
      ],
      "execution_count": null,
      "outputs": [
        {
          "output_type": "stream",
          "text": [
            "1082\n"
          ],
          "name": "stdout"
        }
      ]
    },
    {
      "cell_type": "code",
      "metadata": {
        "id": "nyIISmZtAQWv",
        "colab_type": "code",
        "colab": {
          "base_uri": "https://localhost:8080/",
          "height": 35
        },
        "outputId": "78ca57c2-2d22-4053-e377-fd0450d5452c"
      },
      "source": [
        "ls ./drone_dataset/train/large_quadcopters | wc -l"
      ],
      "execution_count": null,
      "outputs": [
        {
          "output_type": "stream",
          "text": [
            "2770\n"
          ],
          "name": "stdout"
        }
      ]
    },
    {
      "cell_type": "code",
      "metadata": {
        "id": "y391158PATZ7",
        "colab_type": "code",
        "colab": {
          "base_uri": "https://localhost:8080/",
          "height": 35
        },
        "outputId": "5558362a-af08-46de-9a87-f77d4dface22"
      },
      "source": [
        "ls ./drone_dataset/val/large_quadcopters | wc -l"
      ],
      "execution_count": null,
      "outputs": [
        {
          "output_type": "stream",
          "text": [
            "1187\n"
          ],
          "name": "stdout"
        }
      ]
    },
    {
      "cell_type": "code",
      "metadata": {
        "id": "EmL3mNRUAiTB",
        "colab_type": "code",
        "colab": {}
      },
      "source": [
        "!zip -r '/content/drive/My Drive/drone_dataset.zip' 'drone_dataset'"
      ],
      "execution_count": null,
      "outputs": []
    },
    {
      "cell_type": "code",
      "metadata": {
        "id": "aHyrf5ccFHkU",
        "colab_type": "code",
        "colab": {}
      },
      "source": [
        "!unzip -q '/content/drive/My Drive/drone_dataset.zip' -d '/content/'"
      ],
      "execution_count": null,
      "outputs": []
    }
  ]
}